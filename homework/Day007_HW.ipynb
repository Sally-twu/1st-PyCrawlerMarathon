{
 "cells": [
  {
   "cell_type": "markdown",
   "metadata": {},
   "source": [
    "1.（簡答題）請問目前提到的這種基於 HTTP 一來一回的網頁傳輸方式，有哪些缺點及問題？"
   ]
  },
  {
   "cell_type": "markdown",
   "metadata": {},
   "source": [
    "缺點:\n",
    "1)傳輸速度慢，資料包大\n",
    "2)如果實時互動，伺服器效能壓力大\n",
    "3)資料傳輸安全性差\n",
    "\n",
    "對資料傳輸速度及安全性要求不高，且需要快速開發的應用。\n"
   ]
  },
  {
   "cell_type": "markdown",
   "metadata": {},
   "source": [
    "2.（簡答題）網頁中使用的 JavaScipt 程式語言，跟我們一般使用的 Python 在執行上有什麼不同。"
   ]
  },
  {
   "cell_type": "markdown",
   "metadata": {},
   "source": [
    "JavaScript(Node.js)\n",
    "1.前後端都可使用，高併發情況執行效率高\n",
    "2.不適合CPU密集的應用\n",
    "3.網站範例:Yahoo,Walmart\n",
    "\n",
    "Python\n",
    "單獨使用相較起來運行效能差"
   ]
  }
 ],
 "metadata": {
  "kernelspec": {
   "display_name": "Python 3",
   "language": "python",
   "name": "python3"
  },
  "language_info": {
   "codemirror_mode": {
    "name": "ipython",
    "version": 3
   },
   "file_extension": ".py",
   "mimetype": "text/x-python",
   "name": "python",
   "nbconvert_exporter": "python",
   "pygments_lexer": "ipython3",
   "version": "3.7.4"
  }
 },
 "nbformat": 4,
 "nbformat_minor": 2
}
